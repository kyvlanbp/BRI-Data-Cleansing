{
 "cells": [
  {
   "cell_type": "markdown",
   "metadata": {},
   "source": [
    "target: 'Best Performance'  \n",
    "split 70-30, random state: 2020\n",
    "\n",
    "1. Bersihkan data  \n",
    "2. Buat analisa singkat hubungan antara fitur dan target \n",
    "3. Buat skema preprosessing   \n",
    "4. Pilih fitur menggunakan  :\n",
    "    * univariate statistics\n",
    "    * iterative feature selection  \n",
    "\n",
    "Gunakan model:  \n",
    "* Decision Tree Classifier\n",
    "* Logistic Regression\n",
    "\n",
    "Bandingkan performa model dan fitur yang terpilih.\n"
   ]
  },
  {
   "cell_type": "code",
   "execution_count": 1,
   "metadata": {},
   "outputs": [],
   "source": [
    "import pandas as pd\n",
    "import numpy as np\n",
    "import matplotlib.pyplot as plt\n",
    "import seaborn as sns"
   ]
  },
  {
   "cell_type": "code",
   "execution_count": 2,
   "metadata": {},
   "outputs": [
    {
     "data": {
      "text/html": [
       "<div>\n",
       "<style scoped>\n",
       "    .dataframe tbody tr th:only-of-type {\n",
       "        vertical-align: middle;\n",
       "    }\n",
       "\n",
       "    .dataframe tbody tr th {\n",
       "        vertical-align: top;\n",
       "    }\n",
       "\n",
       "    .dataframe thead th {\n",
       "        text-align: right;\n",
       "    }\n",
       "</style>\n",
       "<table border=\"1\" class=\"dataframe\">\n",
       "  <thead>\n",
       "    <tr style=\"text-align: right;\">\n",
       "      <th></th>\n",
       "      <th>job_level</th>\n",
       "      <th>job_duration_in_current_job_level</th>\n",
       "      <th>person_level</th>\n",
       "      <th>job_duration_in_current_person_level</th>\n",
       "      <th>job_duration_in_current_branch</th>\n",
       "      <th>Employee_type</th>\n",
       "      <th>Employee_status</th>\n",
       "      <th>gender</th>\n",
       "      <th>age</th>\n",
       "      <th>marital_status_maried(Y/N)</th>\n",
       "      <th>...</th>\n",
       "      <th>assign_of_otherposition</th>\n",
       "      <th>annual leave</th>\n",
       "      <th>sick_leaves</th>\n",
       "      <th>Best Performance</th>\n",
       "      <th>Avg_achievement_%</th>\n",
       "      <th>Last_achievement_%</th>\n",
       "      <th>Achievement_above_100%_during3quartal</th>\n",
       "      <th>achievement_target_1</th>\n",
       "      <th>achievement_target_2</th>\n",
       "      <th>achievement_target_3</th>\n",
       "    </tr>\n",
       "  </thead>\n",
       "  <tbody>\n",
       "    <tr>\n",
       "      <th>0</th>\n",
       "      <td>JG05</td>\n",
       "      <td>8.00</td>\n",
       "      <td>PG06</td>\n",
       "      <td>8.00</td>\n",
       "      <td>0.50</td>\n",
       "      <td>RM_type_A</td>\n",
       "      <td>Permanent</td>\n",
       "      <td>Female</td>\n",
       "      <td>1964</td>\n",
       "      <td>Y</td>\n",
       "      <td>...</td>\n",
       "      <td>0</td>\n",
       "      <td>8</td>\n",
       "      <td>0</td>\n",
       "      <td>0</td>\n",
       "      <td>68.85</td>\n",
       "      <td>72.53</td>\n",
       "      <td>0.0</td>\n",
       "      <td>achiev_50%-100%</td>\n",
       "      <td>achiev_&lt; 50%</td>\n",
       "      <td>reached</td>\n",
       "    </tr>\n",
       "    <tr>\n",
       "      <th>1</th>\n",
       "      <td>JG04</td>\n",
       "      <td>5.17</td>\n",
       "      <td>PG04</td>\n",
       "      <td>2.00</td>\n",
       "      <td>1.25</td>\n",
       "      <td>RM_type_A</td>\n",
       "      <td>Permanent</td>\n",
       "      <td>Male</td>\n",
       "      <td>1979</td>\n",
       "      <td>Y</td>\n",
       "      <td>...</td>\n",
       "      <td>9</td>\n",
       "      <td>3</td>\n",
       "      <td>0</td>\n",
       "      <td>0</td>\n",
       "      <td>94.81</td>\n",
       "      <td>101.13</td>\n",
       "      <td>3.0</td>\n",
       "      <td>achiev_50%-100%</td>\n",
       "      <td>achiev_50%-100%</td>\n",
       "      <td>reached</td>\n",
       "    </tr>\n",
       "    <tr>\n",
       "      <th>2</th>\n",
       "      <td>JG04</td>\n",
       "      <td>1.83</td>\n",
       "      <td>PG03</td>\n",
       "      <td>1.83</td>\n",
       "      <td>1.50</td>\n",
       "      <td>RM_type_A</td>\n",
       "      <td>Permanent</td>\n",
       "      <td>Male</td>\n",
       "      <td>1980</td>\n",
       "      <td>Y</td>\n",
       "      <td>...</td>\n",
       "      <td>0</td>\n",
       "      <td>6</td>\n",
       "      <td>0</td>\n",
       "      <td>0</td>\n",
       "      <td>72.82</td>\n",
       "      <td>71.30</td>\n",
       "      <td>0.0</td>\n",
       "      <td>achiev_100%-150%</td>\n",
       "      <td>achiev_&lt; 50%</td>\n",
       "      <td>not_reached</td>\n",
       "    </tr>\n",
       "    <tr>\n",
       "      <th>3</th>\n",
       "      <td>JG04</td>\n",
       "      <td>7.92</td>\n",
       "      <td>PG04</td>\n",
       "      <td>4.00</td>\n",
       "      <td>0.17</td>\n",
       "      <td>RM_type_A</td>\n",
       "      <td>Permanent</td>\n",
       "      <td>Male</td>\n",
       "      <td>1984</td>\n",
       "      <td>Y</td>\n",
       "      <td>...</td>\n",
       "      <td>0</td>\n",
       "      <td>3</td>\n",
       "      <td>0</td>\n",
       "      <td>0</td>\n",
       "      <td>86.89</td>\n",
       "      <td>90.09</td>\n",
       "      <td>2.0</td>\n",
       "      <td>achiev_50%-100%</td>\n",
       "      <td>achiev_50%-100%</td>\n",
       "      <td>not_reached</td>\n",
       "    </tr>\n",
       "    <tr>\n",
       "      <th>4</th>\n",
       "      <td>JG04</td>\n",
       "      <td>1.83</td>\n",
       "      <td>PG03</td>\n",
       "      <td>1.83</td>\n",
       "      <td>2.08</td>\n",
       "      <td>RM_type_A</td>\n",
       "      <td>Permanent</td>\n",
       "      <td>Male</td>\n",
       "      <td>1984</td>\n",
       "      <td>Y</td>\n",
       "      <td>...</td>\n",
       "      <td>11</td>\n",
       "      <td>2</td>\n",
       "      <td>1</td>\n",
       "      <td>1</td>\n",
       "      <td>95.17</td>\n",
       "      <td>100.72</td>\n",
       "      <td>2.0</td>\n",
       "      <td>achiev_&lt; 50%</td>\n",
       "      <td>achiev_&gt; 1.5</td>\n",
       "      <td>not_reached</td>\n",
       "    </tr>\n",
       "  </tbody>\n",
       "</table>\n",
       "<p>5 rows × 30 columns</p>\n",
       "</div>"
      ],
      "text/plain": [
       "  job_level  job_duration_in_current_job_level person_level  \\\n",
       "0      JG05                               8.00         PG06   \n",
       "1      JG04                               5.17         PG04   \n",
       "2      JG04                               1.83         PG03   \n",
       "3      JG04                               7.92         PG04   \n",
       "4      JG04                               1.83         PG03   \n",
       "\n",
       "   job_duration_in_current_person_level  job_duration_in_current_branch  \\\n",
       "0                                  8.00                            0.50   \n",
       "1                                  2.00                            1.25   \n",
       "2                                  1.83                            1.50   \n",
       "3                                  4.00                            0.17   \n",
       "4                                  1.83                            2.08   \n",
       "\n",
       "  Employee_type Employee_status  gender   age marital_status_maried(Y/N)  ...  \\\n",
       "0     RM_type_A       Permanent  Female  1964                          Y  ...   \n",
       "1     RM_type_A       Permanent    Male  1979                          Y  ...   \n",
       "2     RM_type_A       Permanent    Male  1980                          Y  ...   \n",
       "3     RM_type_A       Permanent    Male  1984                          Y  ...   \n",
       "4     RM_type_A       Permanent    Male  1984                          Y  ...   \n",
       "\n",
       "   assign_of_otherposition  annual leave  sick_leaves Best Performance  \\\n",
       "0                        0             8            0                0   \n",
       "1                        9             3            0                0   \n",
       "2                        0             6            0                0   \n",
       "3                        0             3            0                0   \n",
       "4                       11             2            1                1   \n",
       "\n",
       "   Avg_achievement_% Last_achievement_%  \\\n",
       "0              68.85              72.53   \n",
       "1              94.81             101.13   \n",
       "2              72.82              71.30   \n",
       "3              86.89              90.09   \n",
       "4              95.17             100.72   \n",
       "\n",
       "   Achievement_above_100%_during3quartal  achievement_target_1  \\\n",
       "0                                    0.0       achiev_50%-100%   \n",
       "1                                    3.0       achiev_50%-100%   \n",
       "2                                    0.0      achiev_100%-150%   \n",
       "3                                    2.0       achiev_50%-100%   \n",
       "4                                    2.0          achiev_< 50%   \n",
       "\n",
       "   achievement_target_2  achievement_target_3  \n",
       "0          achiev_< 50%               reached  \n",
       "1       achiev_50%-100%               reached  \n",
       "2          achiev_< 50%           not_reached  \n",
       "3       achiev_50%-100%           not_reached  \n",
       "4          achiev_> 1.5           not_reached  \n",
       "\n",
       "[5 rows x 30 columns]"
      ]
     },
     "execution_count": 2,
     "metadata": {},
     "output_type": "execute_result"
    }
   ],
   "source": [
    "df = pd.read_csv('BRI.csv')\n",
    "df.head()"
   ]
  },
  {
   "cell_type": "markdown",
   "metadata": {},
   "source": [
    "## Data"
   ]
  },
  {
   "cell_type": "markdown",
   "metadata": {},
   "source": [
    "Pada dataset ini saya menentukan menggunakan:   \n",
    "* Fitur = Avg_achievement_%,\tLast_achievement_%,\tAchievement_above_100%_during3quartal,\tachievement_target_1,\tachievement_target_2,\tachievement_target_3   \n",
    "* Target = Best Performance  \n"
   ]
  },
  {
   "cell_type": "code",
   "execution_count": 3,
   "metadata": {},
   "outputs": [
    {
     "data": {
      "text/html": [
       "<div>\n",
       "<style scoped>\n",
       "    .dataframe tbody tr th:only-of-type {\n",
       "        vertical-align: middle;\n",
       "    }\n",
       "\n",
       "    .dataframe tbody tr th {\n",
       "        vertical-align: top;\n",
       "    }\n",
       "\n",
       "    .dataframe thead th {\n",
       "        text-align: right;\n",
       "    }\n",
       "</style>\n",
       "<table border=\"1\" class=\"dataframe\">\n",
       "  <thead>\n",
       "    <tr style=\"text-align: right;\">\n",
       "      <th></th>\n",
       "      <th>Best Performance</th>\n",
       "      <th>Avg_achievement_%</th>\n",
       "      <th>Last_achievement_%</th>\n",
       "      <th>Achievement_above_100%_during3quartal</th>\n",
       "      <th>achievement_target_1</th>\n",
       "      <th>achievement_target_2</th>\n",
       "      <th>achievement_target_3</th>\n",
       "    </tr>\n",
       "  </thead>\n",
       "  <tbody>\n",
       "    <tr>\n",
       "      <th>0</th>\n",
       "      <td>0</td>\n",
       "      <td>68.85</td>\n",
       "      <td>72.53</td>\n",
       "      <td>0.0</td>\n",
       "      <td>achiev_50%-100%</td>\n",
       "      <td>achiev_&lt; 50%</td>\n",
       "      <td>reached</td>\n",
       "    </tr>\n",
       "    <tr>\n",
       "      <th>1</th>\n",
       "      <td>0</td>\n",
       "      <td>94.81</td>\n",
       "      <td>101.13</td>\n",
       "      <td>3.0</td>\n",
       "      <td>achiev_50%-100%</td>\n",
       "      <td>achiev_50%-100%</td>\n",
       "      <td>reached</td>\n",
       "    </tr>\n",
       "    <tr>\n",
       "      <th>2</th>\n",
       "      <td>0</td>\n",
       "      <td>72.82</td>\n",
       "      <td>71.30</td>\n",
       "      <td>0.0</td>\n",
       "      <td>achiev_100%-150%</td>\n",
       "      <td>achiev_&lt; 50%</td>\n",
       "      <td>not_reached</td>\n",
       "    </tr>\n",
       "    <tr>\n",
       "      <th>3</th>\n",
       "      <td>0</td>\n",
       "      <td>86.89</td>\n",
       "      <td>90.09</td>\n",
       "      <td>2.0</td>\n",
       "      <td>achiev_50%-100%</td>\n",
       "      <td>achiev_50%-100%</td>\n",
       "      <td>not_reached</td>\n",
       "    </tr>\n",
       "    <tr>\n",
       "      <th>4</th>\n",
       "      <td>1</td>\n",
       "      <td>95.17</td>\n",
       "      <td>100.72</td>\n",
       "      <td>2.0</td>\n",
       "      <td>achiev_&lt; 50%</td>\n",
       "      <td>achiev_&gt; 1.5</td>\n",
       "      <td>not_reached</td>\n",
       "    </tr>\n",
       "  </tbody>\n",
       "</table>\n",
       "</div>"
      ],
      "text/plain": [
       "   Best Performance  Avg_achievement_%  Last_achievement_%  \\\n",
       "0                 0              68.85               72.53   \n",
       "1                 0              94.81              101.13   \n",
       "2                 0              72.82               71.30   \n",
       "3                 0              86.89               90.09   \n",
       "4                 1              95.17              100.72   \n",
       "\n",
       "   Achievement_above_100%_during3quartal achievement_target_1  \\\n",
       "0                                    0.0      achiev_50%-100%   \n",
       "1                                    3.0      achiev_50%-100%   \n",
       "2                                    0.0     achiev_100%-150%   \n",
       "3                                    2.0      achiev_50%-100%   \n",
       "4                                    2.0         achiev_< 50%   \n",
       "\n",
       "  achievement_target_2 achievement_target_3  \n",
       "0         achiev_< 50%              reached  \n",
       "1      achiev_50%-100%              reached  \n",
       "2         achiev_< 50%          not_reached  \n",
       "3      achiev_50%-100%          not_reached  \n",
       "4         achiev_> 1.5          not_reached  "
      ]
     },
     "execution_count": 3,
     "metadata": {},
     "output_type": "execute_result"
    }
   ],
   "source": [
    "dfx=df[['Best Performance',\n",
    "       'Avg_achievement_%',\n",
    "       'Last_achievement_%',\n",
    "       'Achievement_above_100%_during3quartal',\n",
    "       'achievement_target_1',\n",
    "       'achievement_target_2',\n",
    "       'achievement_target_3']]\n",
    "dfx.head()"
   ]
  },
  {
   "cell_type": "markdown",
   "metadata": {},
   "source": [
    "Mengubah penamaan kategori dalam fitur achievement_target_1, achievement_target_2, achievement_target_3"
   ]
  },
  {
   "cell_type": "code",
   "execution_count": 4,
   "metadata": {},
   "outputs": [],
   "source": [
    "dfx['achievement_target_1']\n",
    "for r in (('Pencapaian 50%-100%','achiev_50%-100%'),\n",
    "          ('Pencapaian 100%-150%','achiev_100%-150%'),\n",
    "          ('Pencapaian < 50%','achiev_< 50%'),\n",
    "          ('Pencapaian > 1.5','achiev_> 1.5'),\n",
    "          ('Tidak diberikan target','no_target')):\n",
    "    df['achievement_target_1'] = df['achievement_target_1'].replace(*r)"
   ]
  },
  {
   "cell_type": "code",
   "execution_count": 5,
   "metadata": {},
   "outputs": [],
   "source": [
    "dfx['achievement_target_2']\n",
    "for r in (('Pencapaian 100%-150%','achiev_100%-150%'),\n",
    "          ('Pencapaian 50%-100%','achiev_50%-100%'),\n",
    "          ('Pencapaian < 50%','achiev_< 50%'),\n",
    "          ('Pencapaian > 1.5','achiev_> 1.5'),\n",
    "          ('Tidak diberikan target','no_target')):\n",
    "    df['achievement_target_2'] = df['achievement_target_2'].replace(*r)"
   ]
  },
  {
   "cell_type": "code",
   "execution_count": 6,
   "metadata": {},
   "outputs": [
    {
     "name": "stderr",
     "output_type": "stream",
     "text": [
      "C:\\Users\\asus\\anaconda3\\lib\\site-packages\\pandas\\core\\series.py:4563: SettingWithCopyWarning: \n",
      "A value is trying to be set on a copy of a slice from a DataFrame\n",
      "\n",
      "See the caveats in the documentation: https://pandas.pydata.org/pandas-docs/stable/user_guide/indexing.html#returning-a-view-versus-a-copy\n",
      "  return super().replace(\n"
     ]
    }
   ],
   "source": [
    "dfx['achievement_target_3'].replace('not reached','not_reached',inplace=True)"
   ]
  },
  {
   "cell_type": "markdown",
   "metadata": {},
   "source": [
    "> ## Missing Value"
   ]
  },
  {
   "cell_type": "code",
   "execution_count": 7,
   "metadata": {},
   "outputs": [
    {
     "data": {
      "text/plain": [
       "Best Performance                          0.000000\n",
       "Avg_achievement_%                        28.579868\n",
       "Last_achievement_%                       28.638946\n",
       "Achievement_above_100%_during3quartal    28.638946\n",
       "achievement_target_1                     30.570325\n",
       "achievement_target_2                     30.570325\n",
       "achievement_target_3                     30.570325\n",
       "dtype: float64"
      ]
     },
     "execution_count": 7,
     "metadata": {},
     "output_type": "execute_result"
    }
   ],
   "source": [
    "dfx.isna().sum()/df.shape[0]*100"
   ]
  },
  {
   "cell_type": "markdown",
   "metadata": {},
   "source": [
    "1. Missing value menggunakan ``iterative imputer`` untuk missing value data numerik pada fitur  Avg_achievement_%, Last_achievement_%, Achievement_above_100%_during3quartal"
   ]
  },
  {
   "cell_type": "code",
   "execution_count": 8,
   "metadata": {},
   "outputs": [],
   "source": [
    "from sklearn.experimental import enable_iterative_imputer\n",
    "from sklearn.impute import IterativeImputer\n",
    "from sklearn.pipeline import Pipeline"
   ]
  },
  {
   "cell_type": "code",
   "execution_count": 9,
   "metadata": {},
   "outputs": [
    {
     "name": "stderr",
     "output_type": "stream",
     "text": [
      "<ipython-input-9-9b9a8158c409>:2: SettingWithCopyWarning: \n",
      "A value is trying to be set on a copy of a slice from a DataFrame.\n",
      "Try using .loc[row_indexer,col_indexer] = value instead\n",
      "\n",
      "See the caveats in the documentation: https://pandas.pydata.org/pandas-docs/stable/user_guide/indexing.html#returning-a-view-versus-a-copy\n",
      "  dfx[['Achievement_above_100%_during3quartal',\n",
      "C:\\Users\\asus\\anaconda3\\lib\\site-packages\\pandas\\core\\indexing.py:1736: SettingWithCopyWarning: \n",
      "A value is trying to be set on a copy of a slice from a DataFrame.\n",
      "Try using .loc[row_indexer,col_indexer] = value instead\n",
      "\n",
      "See the caveats in the documentation: https://pandas.pydata.org/pandas-docs/stable/user_guide/indexing.html#returning-a-view-versus-a-copy\n",
      "  isetter(loc, value[:, i].tolist())\n"
     ]
    }
   ],
   "source": [
    "imp_int= IterativeImputer(max_iter=10, random_state=2020)\n",
    "dfx[['Achievement_above_100%_during3quartal',\n",
    "    'Last_achievement_%',\n",
    "    'Avg_achievement_%',]]= imp_int.fit_transform(df[['Achievement_above_100%_during3quartal',\n",
    "                                                      'Last_achievement_%',\n",
    "                                                      'Avg_achievement_%',]])"
   ]
  },
  {
   "cell_type": "code",
   "execution_count": 10,
   "metadata": {},
   "outputs": [
    {
     "data": {
      "text/plain": [
       "Best Performance                          0.000000\n",
       "Avg_achievement_%                         0.000000\n",
       "Last_achievement_%                        0.000000\n",
       "Achievement_above_100%_during3quartal     0.000000\n",
       "achievement_target_1                     30.570325\n",
       "achievement_target_2                     30.570325\n",
       "achievement_target_3                     30.570325\n",
       "dtype: float64"
      ]
     },
     "execution_count": 10,
     "metadata": {},
     "output_type": "execute_result"
    }
   ],
   "source": [
    "dfx.isna().sum()/df.shape[0]*100"
   ]
  },
  {
   "cell_type": "markdown",
   "metadata": {},
   "source": [
    "2. Missing value menggunakan ``simple imputer`` pada data kategorial pada fitur achievement_target_1, achievement_target_2, achievement_target_3  \n",
    "* modus = achievement_target_1, achievement_target_2, achievement_target_3  \n",
    "* one hot = achievement_target_3  \n",
    "* ordinal = achievement_target_1, achievement_target_2"
   ]
  },
  {
   "cell_type": "code",
   "execution_count": 11,
   "metadata": {},
   "outputs": [],
   "source": [
    "from sklearn.impute import SimpleImputer\n",
    "from sklearn.pipeline import Pipeline\n",
    "from sklearn.compose import ColumnTransformer\n",
    "from sklearn.preprocessing import RobustScaler, OneHotEncoder\n",
    "import category_encoders as ce"
   ]
  },
  {
   "cell_type": "code",
   "execution_count": 12,
   "metadata": {},
   "outputs": [],
   "source": [
    "#pipeline\n",
    "#kolom achievement target 3\n",
    "imputer_a=SimpleImputer(strategy='most_frequent')\n",
    "pipe_scale_a=Pipeline([\n",
    "    ('impute a', imputer_a),\n",
    "    ('one hot', OneHotEncoder())\n",
    "])\n",
    "\n",
    "#kolom achievement target 1 dan 2\n",
    "imputer_b=SimpleImputer(strategy='most_frequent')\n",
    "mapping=[{'col':'achievement_target_2', 'mapping':{None: 0,\n",
    "                                                    'achiev_> 1.5':1,\n",
    "                                                    'achiev_< 50%':2,\n",
    "                                                    'achiev_50%-100%':3,\n",
    "                                                    'achiev_100%-150%':4,\n",
    "                                                    'no_target':5}},\n",
    "         {'col':'achievement_target_1', 'mapping':{None: 0,\n",
    "                                                    'achiev_> 1.5':1,\n",
    "                                                    'achiev_< 50%':2,\n",
    "                                                    'achiev_50%-100%':3,\n",
    "                                                    'achiev_100%-150%':4,\n",
    "                                                    'no_target':5}}\n",
    "        ]\n",
    "ordinal=ce.OrdinalEncoder(mapping=mapping)\n",
    "pipe_scale_b=Pipeline([\n",
    "    ('impute b',imputer_b),\n",
    "    ('ordinal', ordinal)\n",
    "])"
   ]
  },
  {
   "cell_type": "code",
   "execution_count": 13,
   "metadata": {},
   "outputs": [],
   "source": [
    "#transform\n",
    "transformer= ColumnTransformer([\n",
    "    ('One Hot', pipe_scale_a, ['achievement_target_3']),\n",
    "    ('Ordinal', pipe_scale_b,['achievement_target_2','achievement_target_1',])\n",
    "], remainder='passthrough')"
   ]
  },
  {
   "cell_type": "code",
   "execution_count": 14,
   "metadata": {},
   "outputs": [
    {
     "data": {
      "text/plain": [
       "Best Performance                          0.000000\n",
       "Avg_achievement_%                         0.000000\n",
       "Last_achievement_%                        0.000000\n",
       "Achievement_above_100%_during3quartal     0.000000\n",
       "achievement_target_1                     30.570325\n",
       "achievement_target_2                     30.570325\n",
       "achievement_target_3                     30.570325\n",
       "dtype: float64"
      ]
     },
     "execution_count": 14,
     "metadata": {},
     "output_type": "execute_result"
    }
   ],
   "source": [
    "dfx.isna().sum()/df.shape[0]*100"
   ]
  },
  {
   "cell_type": "code",
   "execution_count": null,
   "metadata": {},
   "outputs": [],
   "source": []
  }
 ],
 "metadata": {
  "kernelspec": {
   "display_name": "Python 3",
   "language": "python",
   "name": "python3"
  },
  "language_info": {
   "codemirror_mode": {
    "name": "ipython",
    "version": 3
   },
   "file_extension": ".py",
   "mimetype": "text/x-python",
   "name": "python",
   "nbconvert_exporter": "python",
   "pygments_lexer": "ipython3",
   "version": "3.8.5"
  }
 },
 "nbformat": 4,
 "nbformat_minor": 4
}
